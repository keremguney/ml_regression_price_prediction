{
 "cells": [
  {
   "cell_type": "code",
   "execution_count": 2,
   "id": "838947b3-63d2-4861-88b8-9664e56a9562",
   "metadata": {},
   "outputs": [],
   "source": [
    "#importing required libraries\n",
    "import pandas as pd\n",
    "import numpy as np\n",
    "import matplotlib.pyplot as plt\n",
    "from sklearn.preprocessing import LabelEncoder\n",
    "from sklearn.model_selection import train_test_split\n",
    "from sklearn.ensemble import GradientBoostingRegressor\n",
    "from sklearn.tree import DecisionTreeRegressor\n",
    "from sklearn.linear_model import LinearRegression\n",
    "from sklearn.ensemble import RandomForestRegressor\n",
    "from sklearn.linear_model import Ridge\n",
    "from sklearn.svm import SVR\n",
    "from sklearn.linear_model import Lasso\n",
    "from sklearn.metrics import r2_score\n",
    "import joblib"
   ]
  },
  {
   "cell_type": "code",
   "execution_count": 16,
   "id": "52e8c248-086e-48f6-8704-abc1a518f545",
   "metadata": {},
   "outputs": [],
   "source": [
    "input_file = \"../scraping/realestate.csv\"\n",
    "df = pd.read_csv(input_file)"
   ]
  },
  {
   "cell_type": "code",
   "execution_count": 17,
   "id": "1e78ed94-0149-48a9-ae50-b8cd79760aef",
   "metadata": {},
   "outputs": [
    {
     "data": {
      "text/html": [
       "<div>\n",
       "<style scoped>\n",
       "    .dataframe tbody tr th:only-of-type {\n",
       "        vertical-align: middle;\n",
       "    }\n",
       "\n",
       "    .dataframe tbody tr th {\n",
       "        vertical-align: top;\n",
       "    }\n",
       "\n",
       "    .dataframe thead th {\n",
       "        text-align: right;\n",
       "    }\n",
       "</style>\n",
       "<table border=\"1\" class=\"dataframe\">\n",
       "  <thead>\n",
       "    <tr style=\"text-align: right;\">\n",
       "      <th></th>\n",
       "      <th>description</th>\n",
       "      <th>price</th>\n",
       "      <th>rooms</th>\n",
       "      <th>area</th>\n",
       "      <th>location</th>\n",
       "      <th>floor</th>\n",
       "    </tr>\n",
       "  </thead>\n",
       "  <tbody>\n",
       "    <tr>\n",
       "      <th>0</th>\n",
       "      <td>BATTALGAZİDE  4+1 GÜNEYBATI CEPHE  GİRİŞ FİYA...</td>\n",
       "      <td>1.850.000 TL</td>\n",
       "      <td>weekend4+1</td>\n",
       "      <td>texture155 m2</td>\n",
       "      <td>Ankara - Altındağ - Battalgazi Mh.</td>\n",
       "      <td>layers3. Kat</td>\n",
       "    </tr>\n",
       "    <tr>\n",
       "      <th>1</th>\n",
       "      <td>Yapracık Atayurt Mahallesi Satılık 2+1 Bağıms...</td>\n",
       "      <td>2.790.000 TL</td>\n",
       "      <td>weekend2+1</td>\n",
       "      <td>texture95 m2</td>\n",
       "      <td>Ankara - Etimesgut - Atayurt Mh.</td>\n",
       "      <td>layers1. Kat</td>\n",
       "    </tr>\n",
       "    <tr>\n",
       "      <th>2</th>\n",
       "      <td>EMEKTE 2+1 YENİ LÜKS ÖN BAHÇE KATI</td>\n",
       "      <td>3.750.000 TL</td>\n",
       "      <td>weekend2+1</td>\n",
       "      <td>texture90 m2</td>\n",
       "      <td>Ankara - Çankaya - Emek Mh.</td>\n",
       "      <td>layersBahçe katı</td>\n",
       "    </tr>\n",
       "    <tr>\n",
       "      <th>3</th>\n",
       "      <td>ETİMESGUT'TA BAĞLICA 2 DE YENİ BİNADA PARK MA...</td>\n",
       "      <td>2.579.000 TL</td>\n",
       "      <td>weekend3+1</td>\n",
       "      <td>texture125 m2</td>\n",
       "      <td>Ankara - Etimesgut - Alsancak Mh.</td>\n",
       "      <td>layers1. Kat</td>\n",
       "    </tr>\n",
       "    <tr>\n",
       "      <th>4</th>\n",
       "      <td>FATİH MEVLANA MAH. YILDIZ EMLAKTAN 3+1 ASANSÖ...</td>\n",
       "      <td>1.589.000 TL</td>\n",
       "      <td>weekend3+1</td>\n",
       "      <td>texture125 m2</td>\n",
       "      <td>Ankara - Sincan - Mevlana Mh.</td>\n",
       "      <td>layersYüksek giriş</td>\n",
       "    </tr>\n",
       "  </tbody>\n",
       "</table>\n",
       "</div>"
      ],
      "text/plain": [
       "                                         description         price  \\\n",
       "0   BATTALGAZİDE  4+1 GÜNEYBATI CEPHE  GİRİŞ FİYA...  1.850.000 TL   \n",
       "1   Yapracık Atayurt Mahallesi Satılık 2+1 Bağıms...  2.790.000 TL   \n",
       "2                 EMEKTE 2+1 YENİ LÜKS ÖN BAHÇE KATI  3.750.000 TL   \n",
       "3   ETİMESGUT'TA BAĞLICA 2 DE YENİ BİNADA PARK MA...  2.579.000 TL   \n",
       "4   FATİH MEVLANA MAH. YILDIZ EMLAKTAN 3+1 ASANSÖ...  1.589.000 TL   \n",
       "\n",
       "        rooms           area                            location  \\\n",
       "0  weekend4+1  texture155 m2  Ankara - Altındağ - Battalgazi Mh.   \n",
       "1  weekend2+1   texture95 m2    Ankara - Etimesgut - Atayurt Mh.   \n",
       "2  weekend2+1   texture90 m2         Ankara - Çankaya - Emek Mh.   \n",
       "3  weekend3+1  texture125 m2   Ankara - Etimesgut - Alsancak Mh.   \n",
       "4  weekend3+1  texture125 m2       Ankara - Sincan - Mevlana Mh.   \n",
       "\n",
       "                floor  \n",
       "0        layers3. Kat  \n",
       "1        layers1. Kat  \n",
       "2    layersBahçe katı  \n",
       "3        layers1. Kat  \n",
       "4  layersYüksek giriş  "
      ]
     },
     "execution_count": 17,
     "metadata": {},
     "output_type": "execute_result"
    }
   ],
   "source": [
    "df.head()"
   ]
  },
  {
   "cell_type": "code",
   "execution_count": 18,
   "id": "6542c689-affe-499f-965a-6a600107da0e",
   "metadata": {},
   "outputs": [],
   "source": [
    "#preprocessing\n",
    "df['area'] = df['area'].str.extract(r'(\\d+)')\n",
    "df['price'] = df['price'].astype(str).replace(r'[^\\d.]', '', regex=True).str.replace('.', '').astype(float)\n",
    "df['rooms'] = df['rooms'].str.extract(r'(\\d+)')\n",
    "df = df[df['floor'].str.contains('layers', na=False)].assign(floor=lambda x: x['floor'].str.extract(r'(\\d+)').fillna(0).astype(int))\n",
    "df['location'] = df['location'].apply(lambda x: x.split(' - ')[1])\n",
    "df = df.dropna()\n",
    "\n",
    "output_file = 'realestate_preprocessed.csv'\n",
    "\n",
    "df.to_csv(output_file, index=False)"
   ]
  },
  {
   "cell_type": "code",
   "execution_count": 19,
   "id": "d2a4fe6f-24a8-4c46-b374-18cd6bf2dc47",
   "metadata": {},
   "outputs": [
    {
     "data": {
      "text/html": [
       "<div>\n",
       "<style scoped>\n",
       "    .dataframe tbody tr th:only-of-type {\n",
       "        vertical-align: middle;\n",
       "    }\n",
       "\n",
       "    .dataframe tbody tr th {\n",
       "        vertical-align: top;\n",
       "    }\n",
       "\n",
       "    .dataframe thead th {\n",
       "        text-align: right;\n",
       "    }\n",
       "</style>\n",
       "<table border=\"1\" class=\"dataframe\">\n",
       "  <thead>\n",
       "    <tr style=\"text-align: right;\">\n",
       "      <th></th>\n",
       "      <th>description</th>\n",
       "      <th>price</th>\n",
       "      <th>rooms</th>\n",
       "      <th>area</th>\n",
       "      <th>location</th>\n",
       "      <th>floor</th>\n",
       "    </tr>\n",
       "  </thead>\n",
       "  <tbody>\n",
       "    <tr>\n",
       "      <th>0</th>\n",
       "      <td>BATTALGAZİDE  4+1 GÜNEYBATI CEPHE  GİRİŞ FİYA...</td>\n",
       "      <td>1850000.0</td>\n",
       "      <td>4</td>\n",
       "      <td>155</td>\n",
       "      <td>Altındağ</td>\n",
       "      <td>3</td>\n",
       "    </tr>\n",
       "    <tr>\n",
       "      <th>1</th>\n",
       "      <td>Yapracık Atayurt Mahallesi Satılık 2+1 Bağıms...</td>\n",
       "      <td>2790000.0</td>\n",
       "      <td>2</td>\n",
       "      <td>95</td>\n",
       "      <td>Etimesgut</td>\n",
       "      <td>1</td>\n",
       "    </tr>\n",
       "    <tr>\n",
       "      <th>2</th>\n",
       "      <td>EMEKTE 2+1 YENİ LÜKS ÖN BAHÇE KATI</td>\n",
       "      <td>3750000.0</td>\n",
       "      <td>2</td>\n",
       "      <td>90</td>\n",
       "      <td>Çankaya</td>\n",
       "      <td>0</td>\n",
       "    </tr>\n",
       "    <tr>\n",
       "      <th>3</th>\n",
       "      <td>ETİMESGUT'TA BAĞLICA 2 DE YENİ BİNADA PARK MA...</td>\n",
       "      <td>2579000.0</td>\n",
       "      <td>3</td>\n",
       "      <td>125</td>\n",
       "      <td>Etimesgut</td>\n",
       "      <td>1</td>\n",
       "    </tr>\n",
       "    <tr>\n",
       "      <th>4</th>\n",
       "      <td>FATİH MEVLANA MAH. YILDIZ EMLAKTAN 3+1 ASANSÖ...</td>\n",
       "      <td>1589000.0</td>\n",
       "      <td>3</td>\n",
       "      <td>125</td>\n",
       "      <td>Sincan</td>\n",
       "      <td>0</td>\n",
       "    </tr>\n",
       "  </tbody>\n",
       "</table>\n",
       "</div>"
      ],
      "text/plain": [
       "                                         description      price rooms area  \\\n",
       "0   BATTALGAZİDE  4+1 GÜNEYBATI CEPHE  GİRİŞ FİYA...  1850000.0     4  155   \n",
       "1   Yapracık Atayurt Mahallesi Satılık 2+1 Bağıms...  2790000.0     2   95   \n",
       "2                 EMEKTE 2+1 YENİ LÜKS ÖN BAHÇE KATI  3750000.0     2   90   \n",
       "3   ETİMESGUT'TA BAĞLICA 2 DE YENİ BİNADA PARK MA...  2579000.0     3  125   \n",
       "4   FATİH MEVLANA MAH. YILDIZ EMLAKTAN 3+1 ASANSÖ...  1589000.0     3  125   \n",
       "\n",
       "    location  floor  \n",
       "0   Altındağ      3  \n",
       "1  Etimesgut      1  \n",
       "2    Çankaya      0  \n",
       "3  Etimesgut      1  \n",
       "4     Sincan      0  "
      ]
     },
     "execution_count": 19,
     "metadata": {},
     "output_type": "execute_result"
    }
   ],
   "source": [
    "df.head()"
   ]
  },
  {
   "cell_type": "code",
   "execution_count": 20,
   "id": "f2a5e175-c2eb-4243-b48b-2fcafb784eb0",
   "metadata": {},
   "outputs": [],
   "source": [
    "#encoding\n",
    "label_encoder = LabelEncoder()\n",
    "df['location'] = label_encoder.fit_transform(df['location'])\n",
    "\n",
    "label_mapping = dict(zip(label_encoder.classes_, label_encoder.transform(label_encoder.classes_)))\n",
    "label_mapping_df = pd.DataFrame(list(label_mapping.items()), columns=['location', 'Encoded_Value'])\n",
    "label_mapping_df.to_csv('label_mapping.csv', index=False)\n",
    "\n",
    "df[['location', 'location']]\n",
    "df.to_csv('realestate_encoded.csv', index=False)"
   ]
  },
  {
   "cell_type": "code",
   "execution_count": 21,
   "id": "dc40e5ff-6659-4c07-9bf3-3c960c33f822",
   "metadata": {},
   "outputs": [
    {
     "data": {
      "text/html": [
       "<div>\n",
       "<style scoped>\n",
       "    .dataframe tbody tr th:only-of-type {\n",
       "        vertical-align: middle;\n",
       "    }\n",
       "\n",
       "    .dataframe tbody tr th {\n",
       "        vertical-align: top;\n",
       "    }\n",
       "\n",
       "    .dataframe thead th {\n",
       "        text-align: right;\n",
       "    }\n",
       "</style>\n",
       "<table border=\"1\" class=\"dataframe\">\n",
       "  <thead>\n",
       "    <tr style=\"text-align: right;\">\n",
       "      <th></th>\n",
       "      <th>description</th>\n",
       "      <th>price</th>\n",
       "      <th>rooms</th>\n",
       "      <th>area</th>\n",
       "      <th>location</th>\n",
       "      <th>floor</th>\n",
       "    </tr>\n",
       "  </thead>\n",
       "  <tbody>\n",
       "    <tr>\n",
       "      <th>0</th>\n",
       "      <td>BATTALGAZİDE  4+1 GÜNEYBATI CEPHE  GİRİŞ FİYA...</td>\n",
       "      <td>1850000.0</td>\n",
       "      <td>4</td>\n",
       "      <td>155</td>\n",
       "      <td>0</td>\n",
       "      <td>3</td>\n",
       "    </tr>\n",
       "    <tr>\n",
       "      <th>1</th>\n",
       "      <td>Yapracık Atayurt Mahallesi Satılık 2+1 Bağıms...</td>\n",
       "      <td>2790000.0</td>\n",
       "      <td>2</td>\n",
       "      <td>95</td>\n",
       "      <td>2</td>\n",
       "      <td>1</td>\n",
       "    </tr>\n",
       "    <tr>\n",
       "      <th>2</th>\n",
       "      <td>EMEKTE 2+1 YENİ LÜKS ÖN BAHÇE KATI</td>\n",
       "      <td>3750000.0</td>\n",
       "      <td>2</td>\n",
       "      <td>90</td>\n",
       "      <td>10</td>\n",
       "      <td>0</td>\n",
       "    </tr>\n",
       "    <tr>\n",
       "      <th>3</th>\n",
       "      <td>ETİMESGUT'TA BAĞLICA 2 DE YENİ BİNADA PARK MA...</td>\n",
       "      <td>2579000.0</td>\n",
       "      <td>3</td>\n",
       "      <td>125</td>\n",
       "      <td>2</td>\n",
       "      <td>1</td>\n",
       "    </tr>\n",
       "    <tr>\n",
       "      <th>4</th>\n",
       "      <td>FATİH MEVLANA MAH. YILDIZ EMLAKTAN 3+1 ASANSÖ...</td>\n",
       "      <td>1589000.0</td>\n",
       "      <td>3</td>\n",
       "      <td>125</td>\n",
       "      <td>8</td>\n",
       "      <td>0</td>\n",
       "    </tr>\n",
       "  </tbody>\n",
       "</table>\n",
       "</div>"
      ],
      "text/plain": [
       "                                         description      price rooms area  \\\n",
       "0   BATTALGAZİDE  4+1 GÜNEYBATI CEPHE  GİRİŞ FİYA...  1850000.0     4  155   \n",
       "1   Yapracık Atayurt Mahallesi Satılık 2+1 Bağıms...  2790000.0     2   95   \n",
       "2                 EMEKTE 2+1 YENİ LÜKS ÖN BAHÇE KATI  3750000.0     2   90   \n",
       "3   ETİMESGUT'TA BAĞLICA 2 DE YENİ BİNADA PARK MA...  2579000.0     3  125   \n",
       "4   FATİH MEVLANA MAH. YILDIZ EMLAKTAN 3+1 ASANSÖ...  1589000.0     3  125   \n",
       "\n",
       "   location  floor  \n",
       "0         0      3  \n",
       "1         2      1  \n",
       "2        10      0  \n",
       "3         2      1  \n",
       "4         8      0  "
      ]
     },
     "execution_count": 21,
     "metadata": {},
     "output_type": "execute_result"
    }
   ],
   "source": [
    "df.head()"
   ]
  },
  {
   "cell_type": "code",
   "execution_count": 4,
   "id": "ab313cd0-5593-468d-88bd-46ac262d251d",
   "metadata": {},
   "outputs": [],
   "source": [
    "#training models\n",
    "dataset = pd.read_csv('realestate_encoded.csv')\n",
    "X = dataset[['rooms', 'area', 'floor', 'location']]\n",
    "y = dataset['price']\n",
    "X_train, X_test, y_train, y_test = train_test_split(X, y, test_size=0.19, random_state=9)"
   ]
  },
  {
   "cell_type": "code",
   "execution_count": 5,
   "id": "2163e1fb-0fdf-406f-8f42-a8c452cc7324",
   "metadata": {},
   "outputs": [
    {
     "name": "stdout",
     "output_type": "stream",
     "text": [
      "Gradient Boosting Regression R-squared Score: 0.5709159943997233\n"
     ]
    },
    {
     "data": {
      "text/plain": [
       "['model.pkl']"
      ]
     },
     "execution_count": 5,
     "metadata": {},
     "output_type": "execute_result"
    }
   ],
   "source": [
    "#gradient boosting regression\n",
    "gb_regressor = GradientBoostingRegressor(n_estimators=100, learning_rate=0.05, random_state=0) \n",
    "gb_regressor.fit(X_train, y_train)\n",
    "y_pred_gb = gb_regressor.predict(X_test)\n",
    "gb_r2_score = r2_score(y_test, y_pred_gb)\n",
    "print(f'Gradient Boosting Regression R-squared Score: {gb_r2_score}')\n",
    "\n",
    "joblib.dump(gb_regressor, 'model.pkl')"
   ]
  },
  {
   "cell_type": "code",
   "execution_count": 6,
   "id": "1d25427c-4164-4940-a183-0c3c277fec3b",
   "metadata": {},
   "outputs": [
    {
     "name": "stdout",
     "output_type": "stream",
     "text": [
      "Decision Tree Regression R-squared Score: 0.5339916365803159\n"
     ]
    }
   ],
   "source": [
    "#decision tree regression\n",
    "dt_regressor = DecisionTreeRegressor(random_state = 0)\n",
    "dt_regressor.fit(X_train, y_train)\n",
    "y_predDT = dt_regressor.predict(X_test)\n",
    "dt_r2_score = r2_score(y_test, y_predDT)\n",
    "print(f'Decision Tree Regression R-squared Score: {dt_r2_score}')"
   ]
  },
  {
   "cell_type": "code",
   "execution_count": 7,
   "id": "33f5d384-6701-4706-abfe-524c354981b0",
   "metadata": {},
   "outputs": [
    {
     "name": "stdout",
     "output_type": "stream",
     "text": [
      "Lasso Regression R-squared Score: 0.4806034112297699\n"
     ]
    }
   ],
   "source": [
    "#lasso regression\n",
    "lasso_regressor = Lasso(alpha=1.0, random_state=0)\n",
    "lasso_regressor.fit(X_train, y_train)\n",
    "y_pred_lasso = lasso_regressor.predict(X_test)\n",
    "lasso_r2_score = r2_score(y_test, y_pred_lasso)\n",
    "print(f'Lasso Regression R-squared Score: {lasso_r2_score}')"
   ]
  },
  {
   "cell_type": "code",
   "execution_count": 8,
   "id": "e80dd461-9d04-431f-bc04-021cfdeb2198",
   "metadata": {},
   "outputs": [
    {
     "name": "stdout",
     "output_type": "stream",
     "text": [
      "Multiple Linear Regression R-squared Score: 0.4806034648026333\n"
     ]
    }
   ],
   "source": [
    "#multiple linear regression\n",
    "ml_regressor = LinearRegression()\n",
    "ml_regressor.fit(X_train, y_train)\n",
    "y_pred = ml_regressor.predict(X_test)\n",
    "ml_r2_score = r2_score(y_test, y_pred) \n",
    "print(f'Multiple Linear Regression R-squared Score: {ml_r2_score}')"
   ]
  },
  {
   "cell_type": "code",
   "execution_count": 9,
   "id": "1e78ce85-bd78-4d2d-9aae-6ac5ec3d8fc1",
   "metadata": {},
   "outputs": [
    {
     "name": "stdout",
     "output_type": "stream",
     "text": [
      "Random Forest Regression R-squared Score: 0.5756006870132004\n"
     ]
    }
   ],
   "source": [
    "#random forest regression\n",
    "rf_regressor = RandomForestRegressor(n_estimators = 100, random_state = 0)\n",
    "rf_regressor.fit(X_train, y_train)\n",
    "y_predRF = rf_regressor.predict(X_test)\n",
    "rf_r2_score = r2_score(y_test, y_predRF)\n",
    "print(f'Random Forest Regression R-squared Score: {rf_r2_score}')"
   ]
  },
  {
   "cell_type": "code",
   "execution_count": 10,
   "id": "24b25170-cf01-4f7b-800b-faf4c0709a4d",
   "metadata": {},
   "outputs": [
    {
     "name": "stdout",
     "output_type": "stream",
     "text": [
      "Ridge Regression R-squared Score: 0.4805861929311609\n"
     ]
    }
   ],
   "source": [
    "#ridge regression\n",
    "ridge_regressor = Ridge(alpha=1.0)\n",
    "ridge_regressor.fit(X_train, y_train)\n",
    "y_pred_ridge = ridge_regressor.predict(X_test)\n",
    "ridge_r2_score = r2_score(y_test, y_pred_ridge)\n",
    "print(f'Ridge Regression R-squared Score: {ridge_r2_score}')"
   ]
  },
  {
   "cell_type": "code",
   "execution_count": 11,
   "id": "6f203f5b-1bb6-4a99-b0cb-1ef3454cb16b",
   "metadata": {},
   "outputs": [
    {
     "name": "stdout",
     "output_type": "stream",
     "text": [
      "SVR R-squared Score: -0.0638975850334762\n"
     ]
    }
   ],
   "source": [
    "#support vector regression\n",
    "svr_regressor = SVR(kernel = 'rbf',degree=3)\n",
    "svr_regressor.fit(X_train, y_train)\n",
    "y_pred = svr_regressor.predict(X_test)\n",
    "svr_r2_score = r2_score(y_test, y_pred)\n",
    "print(f'SVR R-squared Score: {svr_r2_score}')"
   ]
  },
  {
   "cell_type": "code",
   "execution_count": null,
   "id": "cd989775-6b3f-4d7e-82f6-fe60390c12e2",
   "metadata": {},
   "outputs": [],
   "source": []
  }
 ],
 "metadata": {
  "kernelspec": {
   "display_name": "Python 3 (ipykernel)",
   "language": "python",
   "name": "python3"
  },
  "language_info": {
   "codemirror_mode": {
    "name": "ipython",
    "version": 3
   },
   "file_extension": ".py",
   "mimetype": "text/x-python",
   "name": "python",
   "nbconvert_exporter": "python",
   "pygments_lexer": "ipython3",
   "version": "3.12.1"
  }
 },
 "nbformat": 4,
 "nbformat_minor": 5
}
