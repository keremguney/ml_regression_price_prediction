{
 "cells": [
  {
   "cell_type": "code",
   "execution_count": 29,
   "id": "ae29da28-d699-4555-85b2-fce419e48e74",
   "metadata": {},
   "outputs": [],
   "source": [
    "from bs4 import BeautifulSoup\n",
    "import requests\n",
    "import csv"
   ]
  },
  {
   "cell_type": "code",
   "execution_count": 30,
   "id": "204b88ca-8ed3-49bd-9fe1-4b21ed0cb676",
   "metadata": {},
   "outputs": [
    {
     "data": {
      "text/plain": [
       "45"
      ]
     },
     "execution_count": 30,
     "metadata": {},
     "output_type": "execute_result"
    }
   ],
   "source": [
    "csv_file = open(\"realestate.csv\", \"w\", newline='', encoding='utf-8')\n",
    "csv_writer = csv.writer(csv_file)\n",
    "csv_writer.writerow(['description', 'price', 'rooms', 'area', 'location', 'floor'])"
   ]
  },
  {
   "cell_type": "code",
   "execution_count": 31,
   "id": "42fad854-0e26-4a85-946c-54ab8bc66a49",
   "metadata": {},
   "outputs": [],
   "source": [
    "base_url = \"https://www.emlakjet.com/satilik-daire/ankara/{}\"\n",
    "num_pages = 30"
   ]
  },
  {
   "cell_type": "code",
   "execution_count": 32,
   "id": "b03e4474-9dfc-42af-a318-f7857feb9266",
   "metadata": {},
   "outputs": [],
   "source": [
    "def scrape_page(url):\n",
    "    try:\n",
    "        source = requests.get(url)\n",
    "        source.raise_for_status()\n",
    "\n",
    "        soup = BeautifulSoup(source.content, \"html.parser\")\n",
    "        flats = soup.find_all(\"a\", class_=\"_3qUI9q\")\n",
    "\n",
    "        for flat in flats:\n",
    "            description = flat.find(\"div\", class_=\"_1TNSG2\").text \n",
    "            price = flat.find(\"p\", class_=\"_2C5UCT\").text\n",
    "            room = flat.find(\"div\", {\"class\": \"_2UELHn\"}).find_all(\"span\")[1].text\n",
    "            area = flat.find(\"div\", {\"class\": \"_2UELHn\"}).find_all(\"span\")[3].text\n",
    "            location = flat.find(\"div\", class_=\"_2wVG12\").find(\"span\").text\n",
    "            floor = flat.find(\"div\", {\"class\": \"_2UELHn\"}).find_all(\"span\")[2].text\n",
    "\n",
    "            csv_writer.writerow([description, price, room, area, location, floor])\n",
    "\n",
    "    except requests.exceptions.RequestException as e:\n",
    "        print(f\"Error: {e}\")"
   ]
  },
  {
   "cell_type": "code",
   "execution_count": 33,
   "id": "e5e0fd7b-77ed-4741-ad67-fe49c6df5302",
   "metadata": {},
   "outputs": [
    {
     "name": "stdout",
     "output_type": "stream",
     "text": [
      "https://www.emlakjet.com/satilik-daire/ankara/1\n",
      "https://www.emlakjet.com/satilik-daire/ankara/2\n",
      "https://www.emlakjet.com/satilik-daire/ankara/3\n",
      "https://www.emlakjet.com/satilik-daire/ankara/4\n",
      "https://www.emlakjet.com/satilik-daire/ankara/5\n",
      "https://www.emlakjet.com/satilik-daire/ankara/6\n",
      "https://www.emlakjet.com/satilik-daire/ankara/7\n",
      "https://www.emlakjet.com/satilik-daire/ankara/8\n",
      "https://www.emlakjet.com/satilik-daire/ankara/9\n",
      "https://www.emlakjet.com/satilik-daire/ankara/10\n",
      "https://www.emlakjet.com/satilik-daire/ankara/11\n",
      "https://www.emlakjet.com/satilik-daire/ankara/12\n",
      "https://www.emlakjet.com/satilik-daire/ankara/13\n",
      "https://www.emlakjet.com/satilik-daire/ankara/14\n",
      "https://www.emlakjet.com/satilik-daire/ankara/15\n",
      "https://www.emlakjet.com/satilik-daire/ankara/16\n",
      "https://www.emlakjet.com/satilik-daire/ankara/17\n",
      "https://www.emlakjet.com/satilik-daire/ankara/18\n",
      "https://www.emlakjet.com/satilik-daire/ankara/19\n",
      "https://www.emlakjet.com/satilik-daire/ankara/20\n",
      "https://www.emlakjet.com/satilik-daire/ankara/21\n",
      "https://www.emlakjet.com/satilik-daire/ankara/22\n",
      "https://www.emlakjet.com/satilik-daire/ankara/23\n",
      "https://www.emlakjet.com/satilik-daire/ankara/24\n",
      "https://www.emlakjet.com/satilik-daire/ankara/25\n",
      "https://www.emlakjet.com/satilik-daire/ankara/26\n",
      "https://www.emlakjet.com/satilik-daire/ankara/27\n",
      "https://www.emlakjet.com/satilik-daire/ankara/28\n",
      "https://www.emlakjet.com/satilik-daire/ankara/29\n",
      "https://www.emlakjet.com/satilik-daire/ankara/30\n"
     ]
    }
   ],
   "source": [
    "for page_number in range(1, num_pages + 1):\n",
    "    page_url = base_url.format(page_number)\n",
    "    print(page_url)\n",
    "    scrape_page(page_url)\n",
    "\n",
    "csv_file.close()"
   ]
  },
  {
   "cell_type": "code",
   "execution_count": null,
   "id": "6c06af18-4b7e-4d0b-9834-4c26bfc3d2b6",
   "metadata": {},
   "outputs": [],
   "source": []
  }
 ],
 "metadata": {
  "kernelspec": {
   "display_name": "Python 3 (ipykernel)",
   "language": "python",
   "name": "python3"
  },
  "language_info": {
   "codemirror_mode": {
    "name": "ipython",
    "version": 3
   },
   "file_extension": ".py",
   "mimetype": "text/x-python",
   "name": "python",
   "nbconvert_exporter": "python",
   "pygments_lexer": "ipython3",
   "version": "3.12.1"
  }
 },
 "nbformat": 4,
 "nbformat_minor": 5
}
